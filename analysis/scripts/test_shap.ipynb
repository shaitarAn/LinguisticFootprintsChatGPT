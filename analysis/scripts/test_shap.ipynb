{
 "cells": [
  {
   "cell_type": "code",
   "execution_count": 1,
   "id": "520902ef-dc4f-4bd0-8877-4c6d6e56ecc9",
   "metadata": {},
   "outputs": [],
   "source": [
    "import numpy as np\n",
    "import shap\n",
    "from sklearn.model_selection import train_test_split\n",
    "from sklearn.ensemble import RandomForestClassifier\n",
    "from sklearn.linear_model import LogisticRegression\n",
    "from sklearn.svm import SVC\n",
    "from sklearn.neural_network import MLPClassifier\n",
    "from sklearn.metrics import classification_report\n",
    "from sklearn.preprocessing import StandardScaler\n",
    "from sklearn.feature_extraction.text import TfidfVectorizer"
   ]
  },
  {
   "cell_type": "code",
   "execution_count": 31,
   "id": "36271b74-f950-43ca-8c57-17f68f193d18",
   "metadata": {},
   "outputs": [],
   "source": [
    "files=[\"../../feature_extraction/concatenated_data/cnn_human.txt\",\"../../feature_extraction/concatenated_data/cnn_continue.txt\"]\n",
    "\n",
    "file1 = open(files[0], \"r\")\n",
    "text_human = file1.read()\n",
    "\n",
    "file2 = open(files[1], \"r\")\n",
    "text_continue = file2.read()\n"
   ]
  },
  {
   "cell_type": "code",
   "execution_count": 32,
   "id": "6e5b446a",
   "metadata": {},
   "outputs": [],
   "source": [
    "import torch\n",
    "import transformers\n",
    "import scipy as sp"
   ]
  },
  {
   "cell_type": "code",
   "execution_count": 33,
   "id": "deca9be6",
   "metadata": {},
   "outputs": [],
   "source": [
    "# load a BERT sentiment analysis model\n",
    "tokenizer = transformers.DistilBertTokenizerFast.from_pretrained(\n",
    "    \"distilbert-base-uncased\"\n",
    ")\n",
    "model = transformers.DistilBertForSequenceClassification.from_pretrained(\n",
    "    \"distilbert-base-uncased-finetuned-sst-2-english\"\n",
    ").cuda()"
   ]
  },
  {
   "cell_type": "code",
   "execution_count": 34,
   "id": "4876d92d",
   "metadata": {},
   "outputs": [],
   "source": [
    "# define a prediction function\n",
    "def f(x):\n",
    "    tv = torch.tensor(\n",
    "        [\n",
    "            tokenizer.encode(v, padding=\"max_length\", max_length=500, truncation=True)\n",
    "            for v in x\n",
    "        ]\n",
    "    ).cuda()\n",
    "    outputs = model(tv)[0].detach().cpu().numpy()\n",
    "    scores = (np.exp(outputs).T / np.exp(outputs).sum(-1)).T\n",
    "    val = sp.special.logit(scores[:, 1])  # use one vs rest logit units\n",
    "    return val"
   ]
  },
  {
   "cell_type": "code",
   "execution_count": 35,
   "id": "3b0b6572",
   "metadata": {},
   "outputs": [],
   "source": [
    "# build an explainer using a token masker\n",
    "explainer = shap.Explainer(f, tokenizer)"
   ]
  },
  {
   "cell_type": "code",
   "execution_count": null,
   "id": "936c8961",
   "metadata": {},
   "outputs": [],
   "source": [
    "text_human = \" \".join(text_human.split()[:1000])\n",
    "text_human\n",
    "text_continue = text_continue[:1000]\n",
    "text_continue"
   ]
  },
  {
   "cell_type": "code",
   "execution_count": 55,
   "id": "fda54732",
   "metadata": {},
   "outputs": [
    {
     "name": "stderr",
     "output_type": "stream",
     "text": [
      "Partition explainer: 1001it [00:32, 21.10it/s]                          \n"
     ]
    }
   ],
   "source": [
    "shap_values = explainer(text_continue, fixed_context=1)"
   ]
  },
  {
   "cell_type": "code",
   "execution_count": 57,
   "id": "0181d133",
   "metadata": {},
   "outputs": [
    {
     "data": {
      "text/html": [
       "<svg width=\"100%\" height=\"80px\"><line x1=\"0\" y1=\"33\" x2=\"100%\" y2=\"33\" style=\"stroke:rgb(150,150,150);stroke-width:1\" /><line x1=\"47.9541460787763%\" y1=\"33\" x2=\"47.9541460787763%\" y2=\"37\" style=\"stroke:rgb(150,150,150);stroke-width:1\" /><text x=\"47.9541460787763%\" y=\"27\" font-size=\"12px\" fill=\"rgb(120,120,120)\" dominant-baseline=\"bottom\" text-anchor=\"middle\">-3.098</text><line x1=\"31.99271700410723%\" y1=\"33\" x2=\"31.99271700410723%\" y2=\"37\" style=\"stroke:rgb(150,150,150);stroke-width:1\" /><text x=\"31.99271700410723%\" y=\"27\" font-size=\"12px\" fill=\"rgb(120,120,120)\" dominant-baseline=\"bottom\" text-anchor=\"middle\">-3.101</text><line x1=\"16.03128792944053%\" y1=\"33\" x2=\"16.03128792944053%\" y2=\"37\" style=\"stroke:rgb(150,150,150);stroke-width:1\" /><text x=\"16.03128792944053%\" y=\"27\" font-size=\"12px\" fill=\"rgb(120,120,120)\" dominant-baseline=\"bottom\" text-anchor=\"middle\">-3.104</text><line x1=\"63.91557515344536%\" y1=\"33\" x2=\"63.91557515344536%\" y2=\"37\" style=\"stroke:rgb(150,150,150);stroke-width:1\" /><text x=\"63.91557515344536%\" y=\"27\" font-size=\"12px\" fill=\"rgb(120,120,120)\" dominant-baseline=\"bottom\" text-anchor=\"middle\">-3.095</text><line x1=\"79.87700422811207%\" y1=\"33\" x2=\"79.87700422811207%\" y2=\"37\" style=\"stroke:rgb(150,150,150);stroke-width:1\" /><text x=\"79.87700422811207%\" y=\"27\" font-size=\"12px\" fill=\"rgb(120,120,120)\" dominant-baseline=\"bottom\" text-anchor=\"middle\">-3.092</text><line x1=\"91.6664064788982%\" y1=\"33\" x2=\"91.6664064788982%\" y2=\"37\" style=\"stroke:rgb(150,150,150);stroke-width:1\" /><text x=\"91.6664064788982%\" y=\"27\" font-size=\"13px\" style=\"stroke:#ffffff;stroke-width:8px;\" fill=\"rgb(255,255,255)\" dominant-baseline=\"bottom\" text-anchor=\"middle\">-3.08978</text><text x=\"91.6664064788982%\" y=\"27\" font-size=\"12px\" fill=\"rgb(120,120,120)\" dominant-baseline=\"bottom\" text-anchor=\"middle\">-3.08978</text><text x=\"91.6664064788982%\" y=\"10\" font-size=\"12px\" fill=\"rgb(120,120,120)\" dominant-baseline=\"bottom\" text-anchor=\"middle\">base value</text><line x1=\"8.333540316338219%\" y1=\"33\" x2=\"8.333540316338219%\" y2=\"37\" style=\"stroke:rgb(150,150,150);stroke-width:1\" /><text x=\"8.333540316338219%\" y=\"27\" font-size=\"13px\" style=\"stroke:#ffffff;stroke-width:8px;\" font-weight=\"bold\" fill=\"rgb(255,255,255)\" dominant-baseline=\"bottom\" text-anchor=\"middle\">-3.10545</text><text x=\"8.333540316338219%\" y=\"27\" font-size=\"13px\" font-weight=\"bold\" fill=\"rgb(0,0,0)\" dominant-baseline=\"bottom\" text-anchor=\"middle\">-3.10545</text><text x=\"8.333540316338219%\" y=\"10\" font-size=\"12px\" fill=\"rgb(120,120,120)\" dominant-baseline=\"bottom\" text-anchor=\"middle\">f<tspan baseline-shift=\"sub\" font-size=\"8px\"></tspan>(inputs)</text><rect x=\"8.333540316338219%\" width=\"0.0%\" y=\"40\" height=\"18\" style=\"fill:rgb(255.0, 0.0, 81.08083606031792); stroke-width:0; stroke:rgb(0,0,0)\" /><rect transform=\"translate(-8,0)\" x=\"8.333540316338219%\" y=\"40\" width=\"8\" height=\"18\" style=\"fill:rgb(255.0, 0.0, 81.08083606031792)\"/><g transform=\"translate(-11.5,0)\">  <svg x=\"8.333540316338219%\" y=\"40\" height=\"18\" overflow=\"visible\" width=\"30\">    <path d=\"M 10 -9 l 6 18 L 10 25 L 0 25 L 0 -9\" fill=\"#ffffff\" style=\"stroke:rgb(255,255,255);stroke-width:2\" />  </svg></g><rect x=\"8.333540316338219%\" width=\"83.33286616255997%\" y=\"40\" height=\"18\" style=\"fill:rgb(0.0, 138.56128015770727, 250.76166088685727); stroke-width:0; stroke:rgb(0,0,0)\" /><line x1=\"8.333540316338219%\" x2=\"91.6664064788982%\" y1=\"60\" y2=\"60\" id=\"_fb_nhwwyutbznxbfjsolkba_ind_1\" style=\"stroke:rgb(0.0, 138.56128015770727, 250.76166088685727);stroke-width:2; opacity: 0\"/><text x=\"49.999973397618206%\" y=\"71\" font-size=\"12px\" fill=\"rgb(0.0, 138.56128015770727, 250.76166088685727)\" id=\"_fs_nhwwyutbznxbfjsolkba_ind_1\" style=\"opacity: 0\" dominant-baseline=\"middle\" text-anchor=\"middle\">-0.016</text><svg x=\"8.333540316338219%\" y=\"40\" height=\"20\" width=\"83.33286616255998%\">  <svg x=\"0\" y=\"0\" width=\"100%\" height=\"100%\">    <text x=\"50%\" y=\"9\" font-size=\"12px\" fill=\"rgb(255,255,255)\" dominant-baseline=\"middle\" text-anchor=\"middle\">pounds</text>  </svg></svg><rect transform=\"translate(0,0)\" x=\"8.333540316338219%\" y=\"40\" width=\"8\" height=\"18\" style=\"fill:rgb(0.0, 138.56128015770727, 250.76166088685727)\"/><g transform=\"translate(-6.0,0)\">  <svg x=\"91.6664064788982%\" y=\"40\" height=\"18\" overflow=\"visible\" width=\"30\">    <path d=\"M 8 -9 l -6 18 L 8 25 L 20 25 L 20 -9\" fill=\"#ffffff\" style=\"stroke:rgb(255,255,255);stroke-width:2\" />  </svg></g><rect x=\"8.333540316338219%\" y=\"40\" height=\"20\" width=\"83.33286616255998%\"      onmouseover=\"document.getElementById('_tp_nhwwyutbznxbfjsolkba_ind_1').style.textDecoration = 'underline';document.getElementById('_fs_nhwwyutbznxbfjsolkba_ind_1').style.opacity = 1;document.getElementById('_fb_nhwwyutbznxbfjsolkba_ind_1').style.opacity = 1;\"      onmouseout=\"document.getElementById('_tp_nhwwyutbznxbfjsolkba_ind_1').style.textDecoration = 'none';document.getElementById('_fs_nhwwyutbznxbfjsolkba_ind_1').style.opacity = 0;document.getElementById('_fb_nhwwyutbznxbfjsolkba_ind_1').style.opacity = 0;\" style=\"fill:rgb(0,0,0,0)\" /></svg><div align='center'><div style=\"color: rgb(120,120,120); font-size: 12px; margin-top: -15px;\">inputs</div><div style='display: inline; text-align: center;'\n",
       "    ><div style='display: none; color: #999; padding-top: 0px; font-size: 12px;'>0.0</div\n",
       "        ><div id='_tp_nhwwyutbznxbfjsolkba_ind_0'\n",
       "            style='display: inline; background: rgba(230.2941176470614, 26.505882352939775, 102.59215686274348, 0.0); border-radius: 3px; padding: 0px'\n",
       "            onclick=\"\n",
       "            if (this.previousSibling.style.display == 'none') {\n",
       "                this.previousSibling.style.display = 'block';\n",
       "                this.parentNode.style.display = 'inline-block';\n",
       "            } else {\n",
       "                this.previousSibling.style.display = 'none';\n",
       "                this.parentNode.style.display = 'inline';\n",
       "            }\"\n",
       "            onmouseover=\"document.getElementById('_fb_nhwwyutbznxbfjsolkba_ind_0').style.opacity = 1; document.getElementById('_fs_nhwwyutbznxbfjsolkba_ind_0').style.opacity = 1;\"\n",
       "            onmouseout=\"document.getElementById('_fb_nhwwyutbznxbfjsolkba_ind_0').style.opacity = 0; document.getElementById('_fs_nhwwyutbznxbfjsolkba_ind_0').style.opacity = 0;\"\n",
       "        ></div></div><div style='display: inline; text-align: center;'\n",
       "    ><div style='display: none; color: #999; padding-top: 0px; font-size: 12px;'>-0.016</div\n",
       "        ><div id='_tp_nhwwyutbznxbfjsolkba_ind_1'\n",
       "            style='display: inline; background: rgba(30.0, 136.0, 229.0, 1.0); border-radius: 3px; padding: 0px'\n",
       "            onclick=\"\n",
       "            if (this.previousSibling.style.display == 'none') {\n",
       "                this.previousSibling.style.display = 'block';\n",
       "                this.parentNode.style.display = 'inline-block';\n",
       "            } else {\n",
       "                this.previousSibling.style.display = 'none';\n",
       "                this.parentNode.style.display = 'inline';\n",
       "            }\"\n",
       "            onmouseover=\"document.getElementById('_fb_nhwwyutbznxbfjsolkba_ind_1').style.opacity = 1; document.getElementById('_fs_nhwwyutbznxbfjsolkba_ind_1').style.opacity = 1;\"\n",
       "            onmouseout=\"document.getElementById('_fb_nhwwyutbznxbfjsolkba_ind_1').style.opacity = 0; document.getElementById('_fs_nhwwyutbznxbfjsolkba_ind_1').style.opacity = 0;\"\n",
       "        >pounds</div></div><div style='display: inline; text-align: center;'\n",
       "    ><div style='display: none; color: #999; padding-top: 0px; font-size: 12px;'>0.0</div\n",
       "        ><div id='_tp_nhwwyutbznxbfjsolkba_ind_2'\n",
       "            style='display: inline; background: rgba(230.2941176470614, 26.505882352939775, 102.59215686274348, 0.0); border-radius: 3px; padding: 0px'\n",
       "            onclick=\"\n",
       "            if (this.previousSibling.style.display == 'none') {\n",
       "                this.previousSibling.style.display = 'block';\n",
       "                this.parentNode.style.display = 'inline-block';\n",
       "            } else {\n",
       "                this.previousSibling.style.display = 'none';\n",
       "                this.parentNode.style.display = 'inline';\n",
       "            }\"\n",
       "            onmouseover=\"document.getElementById('_fb_nhwwyutbznxbfjsolkba_ind_2').style.opacity = 1; document.getElementById('_fs_nhwwyutbznxbfjsolkba_ind_2').style.opacity = 1;\"\n",
       "            onmouseout=\"document.getElementById('_fb_nhwwyutbznxbfjsolkba_ind_2').style.opacity = 0; document.getElementById('_fs_nhwwyutbznxbfjsolkba_ind_2').style.opacity = 0;\"\n",
       "        ></div></div></div>"
      ],
      "text/plain": [
       "<IPython.core.display.HTML object>"
      ]
     },
     "metadata": {},
     "output_type": "display_data"
    }
   ],
   "source": [
    "# plot the first sentence's explanation\n",
    "shap.plots.text(shap_values[:10])"
   ]
  },
  {
   "cell_type": "code",
   "execution_count": 46,
   "id": "d71982d6",
   "metadata": {},
   "outputs": [
    {
     "data": {
      "text/html": [
       "\n",
       "    <br>\n",
       "    <hr style=\"height: 1px; background-color: #fff; border: none; margin-top: 18px; margin-bottom: 18px; border-top: 1px dashed #ccc;\"\">\n",
       "    <div align=\"center\" style=\"margin-top: -35px;\"><div style=\"display: inline-block; background: #fff; padding: 5px; color: #999; font-family: monospace\">[0]</div>\n",
       "    </div>\n",
       "                <svg width=\"100%\" height=\"80px\"><line x1=\"0\" y1=\"33\" x2=\"100%\" y2=\"33\" style=\"stroke:rgb(150,150,150);stroke-width:1\" /><line x1=\"49.02424102377371%\" y1=\"33\" x2=\"49.02424102377371%\" y2=\"37\" style=\"stroke:rgb(150,150,150);stroke-width:1\" /><text x=\"49.02424102377371%\" y=\"27\" font-size=\"12px\" fill=\"rgb(120,120,120)\" dominant-baseline=\"bottom\" text-anchor=\"middle\">-3.12</text><line x1=\"34.91172927907579%\" y1=\"33\" x2=\"34.91172927907579%\" y2=\"37\" style=\"stroke:rgb(150,150,150);stroke-width:1\" /><text x=\"34.91172927907579%\" y=\"27\" font-size=\"12px\" fill=\"rgb(120,120,120)\" dominant-baseline=\"bottom\" text-anchor=\"middle\">-3.13</text><line x1=\"20.799217534377256%\" y1=\"33\" x2=\"20.799217534377256%\" y2=\"37\" style=\"stroke:rgb(150,150,150);stroke-width:1\" /><text x=\"20.799217534377256%\" y=\"27\" font-size=\"12px\" fill=\"rgb(120,120,120)\" dominant-baseline=\"bottom\" text-anchor=\"middle\">-3.14</text><line x1=\"63.136752768471624%\" y1=\"33\" x2=\"63.136752768471624%\" y2=\"37\" style=\"stroke:rgb(150,150,150);stroke-width:1\" /><text x=\"63.136752768471624%\" y=\"27\" font-size=\"12px\" fill=\"rgb(120,120,120)\" dominant-baseline=\"bottom\" text-anchor=\"middle\">-3.11</text><line x1=\"77.24926451317016%\" y1=\"33\" x2=\"77.24926451317016%\" y2=\"37\" style=\"stroke:rgb(150,150,150);stroke-width:1\" /><text x=\"77.24926451317016%\" y=\"27\" font-size=\"12px\" fill=\"rgb(120,120,120)\" dominant-baseline=\"bottom\" text-anchor=\"middle\">-3.1</text><line x1=\"91.36177625786807%\" y1=\"33\" x2=\"91.36177625786807%\" y2=\"37\" style=\"stroke:rgb(150,150,150);stroke-width:1\" /><text x=\"91.36177625786807%\" y=\"27\" font-size=\"12px\" fill=\"rgb(120,120,120)\" dominant-baseline=\"bottom\" text-anchor=\"middle\">-3.09</text><line x1=\"91.66640137882254%\" y1=\"33\" x2=\"91.66640137882254%\" y2=\"37\" style=\"stroke:rgb(150,150,150);stroke-width:1\" /><text x=\"91.66640137882254%\" y=\"27\" font-size=\"13px\" style=\"stroke:#ffffff;stroke-width:8px;\" fill=\"rgb(255,255,255)\" dominant-baseline=\"bottom\" text-anchor=\"middle\">-3.08978</text><text x=\"91.66640137882254%\" y=\"27\" font-size=\"12px\" fill=\"rgb(120,120,120)\" dominant-baseline=\"bottom\" text-anchor=\"middle\">-3.08978</text><text x=\"91.66640137882254%\" y=\"10\" font-size=\"12px\" fill=\"rgb(120,120,120)\" dominant-baseline=\"bottom\" text-anchor=\"middle\">base value</text><line x1=\"68.28419592413177%\" y1=\"33\" x2=\"68.28419592413177%\" y2=\"37\" style=\"stroke:rgb(150,150,150);stroke-width:1\" /><text x=\"68.28419592413177%\" y=\"27\" font-size=\"13px\" style=\"stroke:#ffffff;stroke-width:8px;\" font-weight=\"bold\" fill=\"rgb(255,255,255)\" dominant-baseline=\"bottom\" text-anchor=\"middle\">-3.10635</text><text x=\"68.28419592413177%\" y=\"27\" font-size=\"13px\" font-weight=\"bold\" fill=\"rgb(0,0,0)\" dominant-baseline=\"bottom\" text-anchor=\"middle\">-3.10635</text><text x=\"68.28419592413177%\" y=\"10\" font-size=\"12px\" fill=\"rgb(120,120,120)\" dominant-baseline=\"bottom\" text-anchor=\"middle\">f<tspan baseline-shift=\"sub\" font-size=\"8px\"></tspan>(inputs)</text><rect x=\"68.28419592413177%\" width=\"0.0%\" y=\"40\" height=\"18\" style=\"fill:rgb(255.0, 0.0, 81.08083606031792); stroke-width:0; stroke:rgb(0,0,0)\" /><rect transform=\"translate(-8,0)\" x=\"68.28419592413177%\" y=\"40\" width=\"8\" height=\"18\" style=\"fill:rgb(255.0, 0.0, 81.08083606031792)\"/><g transform=\"translate(-11.5,0)\">  <svg x=\"68.28419592413177%\" y=\"40\" height=\"18\" overflow=\"visible\" width=\"30\">    <path d=\"M 10 -9 l 6 18 L 10 25 L 0 25 L 0 -9\" fill=\"#ffffff\" style=\"stroke:rgb(255,255,255);stroke-width:2\" />  </svg></g><rect x=\"68.28419592413177%\" width=\"23.382205454690766%\" y=\"40\" height=\"18\" style=\"fill:rgb(0.0, 138.56128015770727, 250.76166088685727); stroke-width:0; stroke:rgb(0,0,0)\" /><line x1=\"68.28419592413177%\" x2=\"91.66640137882254%\" y1=\"60\" y2=\"60\" id=\"_fb_ckagfcecnvqhmiilgyrr_ind_1\" style=\"stroke:rgb(0.0, 138.56128015770727, 250.76166088685727);stroke-width:2; opacity: 0\"/><text x=\"79.97529865147715%\" y=\"71\" font-size=\"12px\" fill=\"rgb(0.0, 138.56128015770727, 250.76166088685727)\" id=\"_fs_ckagfcecnvqhmiilgyrr_ind_1\" style=\"opacity: 0\" dominant-baseline=\"middle\" text-anchor=\"middle\">-0.017</text><svg x=\"68.28419592413177%\" y=\"40\" height=\"20\" width=\"23.382205454690776%\">  <svg x=\"0\" y=\"0\" width=\"100%\" height=\"100%\">    <text x=\"50%\" y=\"9\" font-size=\"12px\" fill=\"rgb(255,255,255)\" dominant-baseline=\"middle\" text-anchor=\"middle\">N</text>  </svg></svg><rect transform=\"translate(0,0)\" x=\"68.28419592413177%\" y=\"40\" width=\"8\" height=\"18\" style=\"fill:rgb(0.0, 138.56128015770727, 250.76166088685727)\"/><g transform=\"translate(-6.0,0)\">  <svg x=\"91.66640137882254%\" y=\"40\" height=\"18\" overflow=\"visible\" width=\"30\">    <path d=\"M 8 -9 l -6 18 L 8 25 L 20 25 L 20 -9\" fill=\"#ffffff\" style=\"stroke:rgb(255,255,255);stroke-width:2\" />  </svg></g><rect x=\"68.28419592413177%\" y=\"40\" height=\"20\" width=\"23.382205454690776%\"      onmouseover=\"document.getElementById('_tp_ckagfcecnvqhmiilgyrr_ind_1').style.textDecoration = 'underline';document.getElementById('_fs_ckagfcecnvqhmiilgyrr_ind_1').style.opacity = 1;document.getElementById('_fb_ckagfcecnvqhmiilgyrr_ind_1').style.opacity = 1;\"      onmouseout=\"document.getElementById('_tp_ckagfcecnvqhmiilgyrr_ind_1').style.textDecoration = 'none';document.getElementById('_fs_ckagfcecnvqhmiilgyrr_ind_1').style.opacity = 0;document.getElementById('_fb_ckagfcecnvqhmiilgyrr_ind_1').style.opacity = 0;\" style=\"fill:rgb(0,0,0,0)\" /></svg><div align='center'><div style=\"color: rgb(120,120,120); font-size: 12px; margin-top: -15px;\">inputs</div><div style='display: inline; text-align: center;'\n",
       "    ><div style='display: none; color: #999; padding-top: 0px; font-size: 12px;'>0.0</div\n",
       "        ><div id='_tp_ckagfcecnvqhmiilgyrr_ind_0'\n",
       "            style='display: inline; background: rgba(230.2941176470614, 26.505882352939775, 102.59215686274348, 0.0); border-radius: 3px; padding: 0px'\n",
       "            onclick=\"\n",
       "            if (this.previousSibling.style.display == 'none') {\n",
       "                this.previousSibling.style.display = 'block';\n",
       "                this.parentNode.style.display = 'inline-block';\n",
       "            } else {\n",
       "                this.previousSibling.style.display = 'none';\n",
       "                this.parentNode.style.display = 'inline';\n",
       "            }\"\n",
       "            onmouseover=\"document.getElementById('_fb_ckagfcecnvqhmiilgyrr_ind_0').style.opacity = 1; document.getElementById('_fs_ckagfcecnvqhmiilgyrr_ind_0').style.opacity = 1;\"\n",
       "            onmouseout=\"document.getElementById('_fb_ckagfcecnvqhmiilgyrr_ind_0').style.opacity = 0; document.getElementById('_fs_ckagfcecnvqhmiilgyrr_ind_0').style.opacity = 0;\"\n",
       "        ></div></div><div style='display: inline; text-align: center;'\n",
       "    ><div style='display: none; color: #999; padding-top: 0px; font-size: 12px;'>-0.017</div\n",
       "        ><div id='_tp_ckagfcecnvqhmiilgyrr_ind_1'\n",
       "            style='display: inline; background: rgba(30.0, 136.0, 229.0, 0.27478708655179246); border-radius: 3px; padding: 0px'\n",
       "            onclick=\"\n",
       "            if (this.previousSibling.style.display == 'none') {\n",
       "                this.previousSibling.style.display = 'block';\n",
       "                this.parentNode.style.display = 'inline-block';\n",
       "            } else {\n",
       "                this.previousSibling.style.display = 'none';\n",
       "                this.parentNode.style.display = 'inline';\n",
       "            }\"\n",
       "            onmouseover=\"document.getElementById('_fb_ckagfcecnvqhmiilgyrr_ind_1').style.opacity = 1; document.getElementById('_fs_ckagfcecnvqhmiilgyrr_ind_1').style.opacity = 1;\"\n",
       "            onmouseout=\"document.getElementById('_fb_ckagfcecnvqhmiilgyrr_ind_1').style.opacity = 0; document.getElementById('_fs_ckagfcecnvqhmiilgyrr_ind_1').style.opacity = 0;\"\n",
       "        >N</div></div><div style='display: inline; text-align: center;'\n",
       "    ><div style='display: none; color: #999; padding-top: 0px; font-size: 12px;'>0.0</div\n",
       "        ><div id='_tp_ckagfcecnvqhmiilgyrr_ind_2'\n",
       "            style='display: inline; background: rgba(230.2941176470614, 26.505882352939775, 102.59215686274348, 0.0); border-radius: 3px; padding: 0px'\n",
       "            onclick=\"\n",
       "            if (this.previousSibling.style.display == 'none') {\n",
       "                this.previousSibling.style.display = 'block';\n",
       "                this.parentNode.style.display = 'inline-block';\n",
       "            } else {\n",
       "                this.previousSibling.style.display = 'none';\n",
       "                this.parentNode.style.display = 'inline';\n",
       "            }\"\n",
       "            onmouseover=\"document.getElementById('_fb_ckagfcecnvqhmiilgyrr_ind_2').style.opacity = 1; document.getElementById('_fs_ckagfcecnvqhmiilgyrr_ind_2').style.opacity = 1;\"\n",
       "            onmouseout=\"document.getElementById('_fb_ckagfcecnvqhmiilgyrr_ind_2').style.opacity = 0; document.getElementById('_fs_ckagfcecnvqhmiilgyrr_ind_2').style.opacity = 0;\"\n",
       "        ></div></div></div>\n",
       "    <br>\n",
       "    <hr style=\"height: 1px; background-color: #fff; border: none; margin-top: 18px; margin-bottom: 18px; border-top: 1px dashed #ccc;\"\">\n",
       "    <div align=\"center\" style=\"margin-top: -35px;\"><div style=\"display: inline-block; background: #fff; padding: 5px; color: #999; font-family: monospace\">[1]</div>\n",
       "    </div>\n",
       "                <svg width=\"100%\" height=\"80px\"><line x1=\"0\" y1=\"33\" x2=\"100%\" y2=\"33\" style=\"stroke:rgb(150,150,150);stroke-width:1\" /><line x1=\"49.02424102377371%\" y1=\"33\" x2=\"49.02424102377371%\" y2=\"37\" style=\"stroke:rgb(150,150,150);stroke-width:1\" /><text x=\"49.02424102377371%\" y=\"27\" font-size=\"12px\" fill=\"rgb(120,120,120)\" dominant-baseline=\"bottom\" text-anchor=\"middle\">-3.12</text><line x1=\"34.91172927907579%\" y1=\"33\" x2=\"34.91172927907579%\" y2=\"37\" style=\"stroke:rgb(150,150,150);stroke-width:1\" /><text x=\"34.91172927907579%\" y=\"27\" font-size=\"12px\" fill=\"rgb(120,120,120)\" dominant-baseline=\"bottom\" text-anchor=\"middle\">-3.13</text><line x1=\"20.799217534377256%\" y1=\"33\" x2=\"20.799217534377256%\" y2=\"37\" style=\"stroke:rgb(150,150,150);stroke-width:1\" /><text x=\"20.799217534377256%\" y=\"27\" font-size=\"12px\" fill=\"rgb(120,120,120)\" dominant-baseline=\"bottom\" text-anchor=\"middle\">-3.14</text><line x1=\"63.136752768471624%\" y1=\"33\" x2=\"63.136752768471624%\" y2=\"37\" style=\"stroke:rgb(150,150,150);stroke-width:1\" /><text x=\"63.136752768471624%\" y=\"27\" font-size=\"12px\" fill=\"rgb(120,120,120)\" dominant-baseline=\"bottom\" text-anchor=\"middle\">-3.11</text><line x1=\"77.24926451317016%\" y1=\"33\" x2=\"77.24926451317016%\" y2=\"37\" style=\"stroke:rgb(150,150,150);stroke-width:1\" /><text x=\"77.24926451317016%\" y=\"27\" font-size=\"12px\" fill=\"rgb(120,120,120)\" dominant-baseline=\"bottom\" text-anchor=\"middle\">-3.1</text><line x1=\"91.36177625786807%\" y1=\"33\" x2=\"91.36177625786807%\" y2=\"37\" style=\"stroke:rgb(150,150,150);stroke-width:1\" /><text x=\"91.36177625786807%\" y=\"27\" font-size=\"12px\" fill=\"rgb(120,120,120)\" dominant-baseline=\"bottom\" text-anchor=\"middle\">-3.09</text><line x1=\"91.66640137882254%\" y1=\"33\" x2=\"91.66640137882254%\" y2=\"37\" style=\"stroke:rgb(150,150,150);stroke-width:1\" /><text x=\"91.66640137882254%\" y=\"27\" font-size=\"13px\" style=\"stroke:#ffffff;stroke-width:8px;\" fill=\"rgb(255,255,255)\" dominant-baseline=\"bottom\" text-anchor=\"middle\">-3.08978</text><text x=\"91.66640137882254%\" y=\"27\" font-size=\"12px\" fill=\"rgb(120,120,120)\" dominant-baseline=\"bottom\" text-anchor=\"middle\">-3.08978</text><text x=\"91.66640137882254%\" y=\"10\" font-size=\"12px\" fill=\"rgb(120,120,120)\" dominant-baseline=\"bottom\" text-anchor=\"middle\">base value</text><line x1=\"8.333584508665727%\" y1=\"33\" x2=\"8.333584508665727%\" y2=\"37\" style=\"stroke:rgb(150,150,150);stroke-width:1\" /><text x=\"8.333584508665727%\" y=\"27\" font-size=\"13px\" style=\"stroke:#ffffff;stroke-width:8px;\" font-weight=\"bold\" fill=\"rgb(255,255,255)\" dominant-baseline=\"bottom\" text-anchor=\"middle\">-3.14883</text><text x=\"8.333584508665727%\" y=\"27\" font-size=\"13px\" font-weight=\"bold\" fill=\"rgb(0,0,0)\" dominant-baseline=\"bottom\" text-anchor=\"middle\">-3.14883</text><text x=\"8.333584508665727%\" y=\"10\" font-size=\"12px\" fill=\"rgb(120,120,120)\" dominant-baseline=\"bottom\" text-anchor=\"middle\">f<tspan baseline-shift=\"sub\" font-size=\"8px\"></tspan>(inputs)</text><rect x=\"8.333332157290897%\" width=\"0.00025235137482937955%\" y=\"40\" height=\"18\" style=\"fill:rgb(255.0, 0.0, 81.08083606031792); stroke-width:0; stroke:rgb(0,0,0)\" /><line x1=\"8.33341627441584%\" x2=\"8.333584508665727%\" y1=\"60\" y2=\"60\" id=\"_fb_trqseykfvskypqgbkgtm_ind_2\" style=\"stroke:rgb(255.0, 0.0, 81.08083606031792);stroke-width:2; opacity: 0\"/><text x=\"8.333500391540785%\" y=\"71\" font-size=\"12px\" id=\"_fs_trqseykfvskypqgbkgtm_ind_2\" fill=\"rgb(255.0, 0.0, 81.08083606031792)\" style=\"opacity: 0\" dominant-baseline=\"middle\" text-anchor=\"middle\">0.0</text><svg x=\"8.33341627441584%\" y=\"40\" height=\"20\" width=\"0.00016823424988565705%\">  <svg x=\"0\" y=\"0\" width=\"100%\" height=\"100%\">    <text x=\"50%\" y=\"9\" font-size=\"12px\" fill=\"rgb(255,255,255)\" dominant-baseline=\"middle\" text-anchor=\"middle\"></text>  </svg></svg><line x1=\"8.333332157290897%\" x2=\"8.33341627441584%\" y1=\"60\" y2=\"60\" id=\"_fb_trqseykfvskypqgbkgtm_ind_0\" style=\"stroke:rgb(255.0, 0.0, 81.08083606031792);stroke-width:2; opacity: 0\"/><text x=\"8.333374215853368%\" y=\"71\" font-size=\"12px\" id=\"_fs_trqseykfvskypqgbkgtm_ind_0\" fill=\"rgb(255.0, 0.0, 81.08083606031792)\" style=\"opacity: 0\" dominant-baseline=\"middle\" text-anchor=\"middle\">0.0</text><svg x=\"8.333332157290897%\" y=\"40\" height=\"20\" width=\"8.41171249437167e-05%\">  <svg x=\"0\" y=\"0\" width=\"100%\" height=\"100%\">    <text x=\"50%\" y=\"9\" font-size=\"12px\" fill=\"rgb(255,255,255)\" dominant-baseline=\"middle\" text-anchor=\"middle\"></text>  </svg></svg><g transform=\"translate(0,0)\">  <svg x=\"8.33341627441584%\" y=\"40\" height=\"18\" overflow=\"visible\" width=\"30\">    <path d=\"M 0 -9 l 6 18 L 0 25\" fill=\"none\" style=\"stroke:rgb(255.0, 0.0, 81.08083606031792);stroke-width:2\" />  </svg></g><g transform=\"translate(2,0)\">  <svg x=\"8.33341627441584%\" y=\"40\" height=\"18\" overflow=\"visible\" width=\"30\">    <path d=\"M 0 -9 l 6 18 L 0 25\" fill=\"none\" style=\"stroke:rgb(255.0, 0.0, 81.08083606031792);stroke-width:2\" />  </svg></g><g transform=\"translate(4,0)\">  <svg x=\"8.33341627441584%\" y=\"40\" height=\"18\" overflow=\"visible\" width=\"30\">    <path d=\"M 0 -9 l 6 18 L 0 25\" fill=\"none\" style=\"stroke:rgb(255.0, 0.0, 81.08083606031792);stroke-width:2\" />  </svg></g><g transform=\"translate(6,0)\">  <svg x=\"8.33341627441584%\" y=\"40\" height=\"18\" overflow=\"visible\" width=\"30\">    <path d=\"M 0 -9 l 6 18 L 0 25\" fill=\"none\" style=\"stroke:rgb(255.0, 0.0, 81.08083606031792);stroke-width:2\" />  </svg></g><g transform=\"translate(-8,0)\">  <svg x=\"8.33341627441584%\" y=\"40\" height=\"18\" overflow=\"visible\" width=\"30\">    <path d=\"M 0 -9 l 6 18 L 0 25\" fill=\"none\" style=\"stroke:rgb(255.0, 0.0, 81.08083606031792);stroke-width:2\" />  </svg></g><g transform=\"translate(-6,0)\">  <svg x=\"8.33341627441584%\" y=\"40\" height=\"18\" overflow=\"visible\" width=\"30\">    <path d=\"M 0 -9 l 6 18 L 0 25\" fill=\"none\" style=\"stroke:rgb(255.0, 0.0, 81.08083606031792);stroke-width:2\" />  </svg></g><g transform=\"translate(-4,0)\">  <svg x=\"8.33341627441584%\" y=\"40\" height=\"18\" overflow=\"visible\" width=\"30\">    <path d=\"M 0 -9 l 6 18 L 0 25\" fill=\"none\" style=\"stroke:rgb(255.0, 0.0, 81.08083606031792);stroke-width:2\" />  </svg></g><g transform=\"translate(-2,0)\">  <svg x=\"8.33341627441584%\" y=\"40\" height=\"18\" overflow=\"visible\" width=\"30\">    <path d=\"M 0 -9 l 6 18 L 0 25\" fill=\"none\" style=\"stroke:rgb(255.0, 0.0, 81.08083606031792);stroke-width:2\" />  </svg></g><rect transform=\"translate(-8,0)\" x=\"8.333584508665727%\" y=\"40\" width=\"8\" height=\"18\" style=\"fill:rgb(255.0, 0.0, 81.08083606031792)\"/><g transform=\"translate(-11.5,0)\">  <svg x=\"8.333332157290897%\" y=\"40\" height=\"18\" overflow=\"visible\" width=\"30\">    <path d=\"M 10 -9 l 6 18 L 10 25 L 0 25 L 0 -9\" fill=\"#ffffff\" style=\"stroke:rgb(255,255,255);stroke-width:2\" />  </svg></g><g transform=\"translate(-1.5,0)\">  <svg x=\"8.333584508665727%\" y=\"40\" height=\"18\" overflow=\"visible\" width=\"30\">    <path d=\"M 0 -9 l 6 18 L 0 25\" fill=\"none\" style=\"stroke:rgb(255, 195, 213);stroke-width:2\" />  </svg></g><rect x=\"8.33341627441584%\" y=\"40\" height=\"20\" width=\"0.00016823424988565705%\"      onmouseover=\"document.getElementById('_tp_trqseykfvskypqgbkgtm_ind_2').style.textDecoration = 'underline';document.getElementById('_fs_trqseykfvskypqgbkgtm_ind_2').style.opacity = 1;document.getElementById('_fb_trqseykfvskypqgbkgtm_ind_2').style.opacity = 1;\"      onmouseout=\"document.getElementById('_tp_trqseykfvskypqgbkgtm_ind_2').style.textDecoration = 'none';document.getElementById('_fs_trqseykfvskypqgbkgtm_ind_2').style.opacity = 0;document.getElementById('_fb_trqseykfvskypqgbkgtm_ind_2').style.opacity = 0;\" style=\"fill:rgb(0,0,0,0)\" /><rect x=\"8.333332157290897%\" y=\"40\" height=\"20\" width=\"8.41171249437167e-05%\"      onmouseover=\"document.getElementById('_tp_trqseykfvskypqgbkgtm_ind_0').style.textDecoration = 'underline';document.getElementById('_fs_trqseykfvskypqgbkgtm_ind_0').style.opacity = 1;document.getElementById('_fb_trqseykfvskypqgbkgtm_ind_0').style.opacity = 1;\"      onmouseout=\"document.getElementById('_tp_trqseykfvskypqgbkgtm_ind_0').style.textDecoration = 'none';document.getElementById('_fs_trqseykfvskypqgbkgtm_ind_0').style.opacity = 0;document.getElementById('_fb_trqseykfvskypqgbkgtm_ind_0').style.opacity = 0;\" style=\"fill:rgb(0,0,0,0)\" /><rect x=\"8.333584508665727%\" width=\"83.33306922153164%\" y=\"40\" height=\"18\" style=\"fill:rgb(0.0, 138.56128015770727, 250.76166088685727); stroke-width:0; stroke:rgb(0,0,0)\" /><line x1=\"8.333584508665727%\" x2=\"91.66665373019737%\" y1=\"60\" y2=\"60\" id=\"_fb_trqseykfvskypqgbkgtm_ind_1\" style=\"stroke:rgb(0.0, 138.56128015770727, 250.76166088685727);stroke-width:2; opacity: 0\"/><text x=\"50.000119119431545%\" y=\"71\" font-size=\"12px\" fill=\"rgb(0.0, 138.56128015770727, 250.76166088685727)\" id=\"_fs_trqseykfvskypqgbkgtm_ind_1\" style=\"opacity: 0\" dominant-baseline=\"middle\" text-anchor=\"middle\">-0.059</text><svg x=\"8.333584508665727%\" y=\"40\" height=\"20\" width=\"83.33306922153164%\">  <svg x=\"0\" y=\"0\" width=\"100%\" height=\"100%\">    <text x=\"50%\" y=\"9\" font-size=\"12px\" fill=\"rgb(255,255,255)\" dominant-baseline=\"middle\" text-anchor=\"middle\">a</text>  </svg></svg><rect transform=\"translate(0,0)\" x=\"8.333584508665727%\" y=\"40\" width=\"8\" height=\"18\" style=\"fill:rgb(0.0, 138.56128015770727, 250.76166088685727)\"/><g transform=\"translate(-6.0,0)\">  <svg x=\"91.66665373019737%\" y=\"40\" height=\"18\" overflow=\"visible\" width=\"30\">    <path d=\"M 8 -9 l -6 18 L 8 25 L 20 25 L 20 -9\" fill=\"#ffffff\" style=\"stroke:rgb(255,255,255);stroke-width:2\" />  </svg></g><rect x=\"8.333584508665727%\" y=\"40\" height=\"20\" width=\"83.33306922153164%\"      onmouseover=\"document.getElementById('_tp_trqseykfvskypqgbkgtm_ind_1').style.textDecoration = 'underline';document.getElementById('_fs_trqseykfvskypqgbkgtm_ind_1').style.opacity = 1;document.getElementById('_fb_trqseykfvskypqgbkgtm_ind_1').style.opacity = 1;\"      onmouseout=\"document.getElementById('_tp_trqseykfvskypqgbkgtm_ind_1').style.textDecoration = 'none';document.getElementById('_fs_trqseykfvskypqgbkgtm_ind_1').style.opacity = 0;document.getElementById('_fb_trqseykfvskypqgbkgtm_ind_1').style.opacity = 0;\" style=\"fill:rgb(0,0,0,0)\" /></svg><div align='center'><div style=\"color: rgb(120,120,120); font-size: 12px; margin-top: -15px;\">inputs</div><div style='display: inline; text-align: center;'\n",
       "    ><div style='display: none; color: #999; padding-top: 0px; font-size: 12px;'>0.0</div\n",
       "        ><div id='_tp_trqseykfvskypqgbkgtm_ind_0'\n",
       "            style='display: inline; background: rgba(230.2941176470614, 26.505882352939775, 102.59215686274348, 0.0); border-radius: 3px; padding: 0px'\n",
       "            onclick=\"\n",
       "            if (this.previousSibling.style.display == 'none') {\n",
       "                this.previousSibling.style.display = 'block';\n",
       "                this.parentNode.style.display = 'inline-block';\n",
       "            } else {\n",
       "                this.previousSibling.style.display = 'none';\n",
       "                this.parentNode.style.display = 'inline';\n",
       "            }\"\n",
       "            onmouseover=\"document.getElementById('_fb_trqseykfvskypqgbkgtm_ind_0').style.opacity = 1; document.getElementById('_fs_trqseykfvskypqgbkgtm_ind_0').style.opacity = 1;\"\n",
       "            onmouseout=\"document.getElementById('_fb_trqseykfvskypqgbkgtm_ind_0').style.opacity = 0; document.getElementById('_fs_trqseykfvskypqgbkgtm_ind_0').style.opacity = 0;\"\n",
       "        ></div></div><div style='display: inline; text-align: center;'\n",
       "    ><div style='display: none; color: #999; padding-top: 0px; font-size: 12px;'>-0.059</div\n",
       "        ><div id='_tp_trqseykfvskypqgbkgtm_ind_1'\n",
       "            style='display: inline; background: rgba(30.0, 136.0, 229.0, 1.0); border-radius: 3px; padding: 0px'\n",
       "            onclick=\"\n",
       "            if (this.previousSibling.style.display == 'none') {\n",
       "                this.previousSibling.style.display = 'block';\n",
       "                this.parentNode.style.display = 'inline-block';\n",
       "            } else {\n",
       "                this.previousSibling.style.display = 'none';\n",
       "                this.parentNode.style.display = 'inline';\n",
       "            }\"\n",
       "            onmouseover=\"document.getElementById('_fb_trqseykfvskypqgbkgtm_ind_1').style.opacity = 1; document.getElementById('_fs_trqseykfvskypqgbkgtm_ind_1').style.opacity = 1;\"\n",
       "            onmouseout=\"document.getElementById('_fb_trqseykfvskypqgbkgtm_ind_1').style.opacity = 0; document.getElementById('_fs_trqseykfvskypqgbkgtm_ind_1').style.opacity = 0;\"\n",
       "        >a</div></div><div style='display: inline; text-align: center;'\n",
       "    ><div style='display: none; color: #999; padding-top: 0px; font-size: 12px;'>0.0</div\n",
       "        ><div id='_tp_trqseykfvskypqgbkgtm_ind_2'\n",
       "            style='display: inline; background: rgba(230.2941176470614, 26.505882352939775, 102.59215686274348, 0.0); border-radius: 3px; padding: 0px'\n",
       "            onclick=\"\n",
       "            if (this.previousSibling.style.display == 'none') {\n",
       "                this.previousSibling.style.display = 'block';\n",
       "                this.parentNode.style.display = 'inline-block';\n",
       "            } else {\n",
       "                this.previousSibling.style.display = 'none';\n",
       "                this.parentNode.style.display = 'inline';\n",
       "            }\"\n",
       "            onmouseover=\"document.getElementById('_fb_trqseykfvskypqgbkgtm_ind_2').style.opacity = 1; document.getElementById('_fs_trqseykfvskypqgbkgtm_ind_2').style.opacity = 1;\"\n",
       "            onmouseout=\"document.getElementById('_fb_trqseykfvskypqgbkgtm_ind_2').style.opacity = 0; document.getElementById('_fs_trqseykfvskypqgbkgtm_ind_2').style.opacity = 0;\"\n",
       "        ></div></div></div>\n",
       "    <br>\n",
       "    <hr style=\"height: 1px; background-color: #fff; border: none; margin-top: 18px; margin-bottom: 18px; border-top: 1px dashed #ccc;\"\">\n",
       "    <div align=\"center\" style=\"margin-top: -35px;\"><div style=\"display: inline-block; background: #fff; padding: 5px; color: #999; font-family: monospace\">[2]</div>\n",
       "    </div>\n",
       "                <svg width=\"100%\" height=\"80px\"><line x1=\"0\" y1=\"33\" x2=\"100%\" y2=\"33\" style=\"stroke:rgb(150,150,150);stroke-width:1\" /><line x1=\"49.02424102377371%\" y1=\"33\" x2=\"49.02424102377371%\" y2=\"37\" style=\"stroke:rgb(150,150,150);stroke-width:1\" /><text x=\"49.02424102377371%\" y=\"27\" font-size=\"12px\" fill=\"rgb(120,120,120)\" dominant-baseline=\"bottom\" text-anchor=\"middle\">-3.12</text><line x1=\"34.91172927907579%\" y1=\"33\" x2=\"34.91172927907579%\" y2=\"37\" style=\"stroke:rgb(150,150,150);stroke-width:1\" /><text x=\"34.91172927907579%\" y=\"27\" font-size=\"12px\" fill=\"rgb(120,120,120)\" dominant-baseline=\"bottom\" text-anchor=\"middle\">-3.13</text><line x1=\"20.799217534377256%\" y1=\"33\" x2=\"20.799217534377256%\" y2=\"37\" style=\"stroke:rgb(150,150,150);stroke-width:1\" /><text x=\"20.799217534377256%\" y=\"27\" font-size=\"12px\" fill=\"rgb(120,120,120)\" dominant-baseline=\"bottom\" text-anchor=\"middle\">-3.14</text><line x1=\"63.136752768471624%\" y1=\"33\" x2=\"63.136752768471624%\" y2=\"37\" style=\"stroke:rgb(150,150,150);stroke-width:1\" /><text x=\"63.136752768471624%\" y=\"27\" font-size=\"12px\" fill=\"rgb(120,120,120)\" dominant-baseline=\"bottom\" text-anchor=\"middle\">-3.11</text><line x1=\"77.24926451317016%\" y1=\"33\" x2=\"77.24926451317016%\" y2=\"37\" style=\"stroke:rgb(150,150,150);stroke-width:1\" /><text x=\"77.24926451317016%\" y=\"27\" font-size=\"12px\" fill=\"rgb(120,120,120)\" dominant-baseline=\"bottom\" text-anchor=\"middle\">-3.1</text><line x1=\"91.36177625786807%\" y1=\"33\" x2=\"91.36177625786807%\" y2=\"37\" style=\"stroke:rgb(150,150,150);stroke-width:1\" /><text x=\"91.36177625786807%\" y=\"27\" font-size=\"12px\" fill=\"rgb(120,120,120)\" dominant-baseline=\"bottom\" text-anchor=\"middle\">-3.09</text><line x1=\"91.66640137882254%\" y1=\"33\" x2=\"91.66640137882254%\" y2=\"37\" style=\"stroke:rgb(150,150,150);stroke-width:1\" /><text x=\"91.66640137882254%\" y=\"27\" font-size=\"13px\" style=\"stroke:#ffffff;stroke-width:8px;\" fill=\"rgb(255,255,255)\" dominant-baseline=\"bottom\" text-anchor=\"middle\">-3.08978</text><text x=\"91.66640137882254%\" y=\"27\" font-size=\"12px\" fill=\"rgb(120,120,120)\" dominant-baseline=\"bottom\" text-anchor=\"middle\">-3.08978</text><text x=\"91.66640137882254%\" y=\"10\" font-size=\"12px\" fill=\"rgb(120,120,120)\" dominant-baseline=\"bottom\" text-anchor=\"middle\">base value</text><line x1=\"55.10405185104316%\" y1=\"33\" x2=\"55.10405185104316%\" y2=\"37\" style=\"stroke:rgb(150,150,150);stroke-width:1\" /><text x=\"55.10405185104316%\" y=\"27\" font-size=\"13px\" style=\"stroke:#ffffff;stroke-width:8px;\" font-weight=\"bold\" fill=\"rgb(255,255,255)\" dominant-baseline=\"bottom\" text-anchor=\"middle\">-3.11569</text><text x=\"55.10405185104316%\" y=\"27\" font-size=\"13px\" font-weight=\"bold\" fill=\"rgb(0,0,0)\" dominant-baseline=\"bottom\" text-anchor=\"middle\">-3.11569</text><text x=\"55.10405185104316%\" y=\"10\" font-size=\"12px\" fill=\"rgb(120,120,120)\" dominant-baseline=\"bottom\" text-anchor=\"middle\">f<tspan baseline-shift=\"sub\" font-size=\"8px\"></tspan>(inputs)</text><rect x=\"55.10405185104316%\" width=\"0.0%\" y=\"40\" height=\"18\" style=\"fill:rgb(255.0, 0.0, 81.08083606031792); stroke-width:0; stroke:rgb(0,0,0)\" /><rect transform=\"translate(-8,0)\" x=\"55.10405185104316%\" y=\"40\" width=\"8\" height=\"18\" style=\"fill:rgb(255.0, 0.0, 81.08083606031792)\"/><g transform=\"translate(-11.5,0)\">  <svg x=\"55.10405185104316%\" y=\"40\" height=\"18\" overflow=\"visible\" width=\"30\">    <path d=\"M 10 -9 l 6 18 L 10 25 L 0 25 L 0 -9\" fill=\"#ffffff\" style=\"stroke:rgb(255,255,255);stroke-width:2\" />  </svg></g><rect x=\"55.10405185104316%\" width=\"36.562349527779375%\" y=\"40\" height=\"18\" style=\"fill:rgb(0.0, 138.56128015770727, 250.76166088685727); stroke-width:0; stroke:rgb(0,0,0)\" /><line x1=\"55.10405185104316%\" x2=\"91.66640137882254%\" y1=\"60\" y2=\"60\" id=\"_fb_yyncebjsgpmyvehefrjx_ind_1\" style=\"stroke:rgb(0.0, 138.56128015770727, 250.76166088685727);stroke-width:2; opacity: 0\"/><text x=\"73.38522661493285%\" y=\"71\" font-size=\"12px\" fill=\"rgb(0.0, 138.56128015770727, 250.76166088685727)\" id=\"_fs_yyncebjsgpmyvehefrjx_ind_1\" style=\"opacity: 0\" dominant-baseline=\"middle\" text-anchor=\"middle\">-0.026</text><svg x=\"55.10405185104316%\" y=\"40\" height=\"20\" width=\"36.56234952777938%\">  <svg x=\"0\" y=\"0\" width=\"100%\" height=\"100%\">    <text x=\"50%\" y=\"9\" font-size=\"12px\" fill=\"rgb(255,255,255)\" dominant-baseline=\"middle\" text-anchor=\"middle\">w</text>  </svg></svg><rect transform=\"translate(0,0)\" x=\"55.10405185104316%\" y=\"40\" width=\"8\" height=\"18\" style=\"fill:rgb(0.0, 138.56128015770727, 250.76166088685727)\"/><g transform=\"translate(-6.0,0)\">  <svg x=\"91.66640137882254%\" y=\"40\" height=\"18\" overflow=\"visible\" width=\"30\">    <path d=\"M 8 -9 l -6 18 L 8 25 L 20 25 L 20 -9\" fill=\"#ffffff\" style=\"stroke:rgb(255,255,255);stroke-width:2\" />  </svg></g><rect x=\"55.10405185104316%\" y=\"40\" height=\"20\" width=\"36.56234952777938%\"      onmouseover=\"document.getElementById('_tp_yyncebjsgpmyvehefrjx_ind_1').style.textDecoration = 'underline';document.getElementById('_fs_yyncebjsgpmyvehefrjx_ind_1').style.opacity = 1;document.getElementById('_fb_yyncebjsgpmyvehefrjx_ind_1').style.opacity = 1;\"      onmouseout=\"document.getElementById('_tp_yyncebjsgpmyvehefrjx_ind_1').style.textDecoration = 'none';document.getElementById('_fs_yyncebjsgpmyvehefrjx_ind_1').style.opacity = 0;document.getElementById('_fb_yyncebjsgpmyvehefrjx_ind_1').style.opacity = 0;\" style=\"fill:rgb(0,0,0,0)\" /></svg><div align='center'><div style=\"color: rgb(120,120,120); font-size: 12px; margin-top: -15px;\">inputs</div><div style='display: inline; text-align: center;'\n",
       "    ><div style='display: none; color: #999; padding-top: 0px; font-size: 12px;'>0.0</div\n",
       "        ><div id='_tp_yyncebjsgpmyvehefrjx_ind_0'\n",
       "            style='display: inline; background: rgba(230.2941176470614, 26.505882352939775, 102.59215686274348, 0.0); border-radius: 3px; padding: 0px'\n",
       "            onclick=\"\n",
       "            if (this.previousSibling.style.display == 'none') {\n",
       "                this.previousSibling.style.display = 'block';\n",
       "                this.parentNode.style.display = 'inline-block';\n",
       "            } else {\n",
       "                this.previousSibling.style.display = 'none';\n",
       "                this.parentNode.style.display = 'inline';\n",
       "            }\"\n",
       "            onmouseover=\"document.getElementById('_fb_yyncebjsgpmyvehefrjx_ind_0').style.opacity = 1; document.getElementById('_fs_yyncebjsgpmyvehefrjx_ind_0').style.opacity = 1;\"\n",
       "            onmouseout=\"document.getElementById('_fb_yyncebjsgpmyvehefrjx_ind_0').style.opacity = 0; document.getElementById('_fs_yyncebjsgpmyvehefrjx_ind_0').style.opacity = 0;\"\n",
       "        ></div></div><div style='display: inline; text-align: center;'\n",
       "    ><div style='display: none; color: #999; padding-top: 0px; font-size: 12px;'>-0.026</div\n",
       "        ><div id='_tp_yyncebjsgpmyvehefrjx_ind_1'\n",
       "            style='display: inline; background: rgba(30.0, 136.0, 229.0, 0.440324816795405); border-radius: 3px; padding: 0px'\n",
       "            onclick=\"\n",
       "            if (this.previousSibling.style.display == 'none') {\n",
       "                this.previousSibling.style.display = 'block';\n",
       "                this.parentNode.style.display = 'inline-block';\n",
       "            } else {\n",
       "                this.previousSibling.style.display = 'none';\n",
       "                this.parentNode.style.display = 'inline';\n",
       "            }\"\n",
       "            onmouseover=\"document.getElementById('_fb_yyncebjsgpmyvehefrjx_ind_1').style.opacity = 1; document.getElementById('_fs_yyncebjsgpmyvehefrjx_ind_1').style.opacity = 1;\"\n",
       "            onmouseout=\"document.getElementById('_fb_yyncebjsgpmyvehefrjx_ind_1').style.opacity = 0; document.getElementById('_fs_yyncebjsgpmyvehefrjx_ind_1').style.opacity = 0;\"\n",
       "        >w</div></div><div style='display: inline; text-align: center;'\n",
       "    ><div style='display: none; color: #999; padding-top: 0px; font-size: 12px;'>0.0</div\n",
       "        ><div id='_tp_yyncebjsgpmyvehefrjx_ind_2'\n",
       "            style='display: inline; background: rgba(230.2941176470614, 26.505882352939775, 102.59215686274348, 0.0); border-radius: 3px; padding: 0px'\n",
       "            onclick=\"\n",
       "            if (this.previousSibling.style.display == 'none') {\n",
       "                this.previousSibling.style.display = 'block';\n",
       "                this.parentNode.style.display = 'inline-block';\n",
       "            } else {\n",
       "                this.previousSibling.style.display = 'none';\n",
       "                this.parentNode.style.display = 'inline';\n",
       "            }\"\n",
       "            onmouseover=\"document.getElementById('_fb_yyncebjsgpmyvehefrjx_ind_2').style.opacity = 1; document.getElementById('_fs_yyncebjsgpmyvehefrjx_ind_2').style.opacity = 1;\"\n",
       "            onmouseout=\"document.getElementById('_fb_yyncebjsgpmyvehefrjx_ind_2').style.opacity = 0; document.getElementById('_fs_yyncebjsgpmyvehefrjx_ind_2').style.opacity = 0;\"\n",
       "        ></div></div></div>"
      ],
      "text/plain": [
       "<IPython.core.display.HTML object>"
      ]
     },
     "metadata": {},
     "output_type": "display_data"
    }
   ],
   "source": [
    "# plot the first sentence's explanation\n",
    "shap.plots.text(shap_values[:3])\n"
   ]
  }
 ],
 "metadata": {
  "kernelspec": {
   "display_name": "Python 3 (ipykernel)",
   "language": "python",
   "name": "python3"
  },
  "language_info": {
   "codemirror_mode": {
    "name": "ipython",
    "version": 3
   },
   "file_extension": ".py",
   "mimetype": "text/x-python",
   "name": "python",
   "nbconvert_exporter": "python",
   "pygments_lexer": "ipython3",
   "version": "3.8.18"
  }
 },
 "nbformat": 4,
 "nbformat_minor": 5
}
